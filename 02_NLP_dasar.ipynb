{
  "nbformat": 4,
  "nbformat_minor": 0,
  "metadata": {
    "colab": {
      "provenance": [],
      "authorship_tag": "ABX9TyNDFf7Ne9lnqK+eUfvUAIs3",
      "include_colab_link": true
    },
    "kernelspec": {
      "name": "python3",
      "display_name": "Python 3"
    },
    "language_info": {
      "name": "python"
    }
  },
  "cells": [
    {
      "cell_type": "markdown",
      "metadata": {
        "id": "view-in-github",
        "colab_type": "text"
      },
      "source": [
        "<a href=\"https://colab.research.google.com/github/nascript/natural-language-processing-NLP/blob/main/02_NLP_dasar.ipynb\" target=\"_parent\"><img src=\"https://colab.research.google.com/assets/colab-badge.svg\" alt=\"Open In Colab\"/></a>"
      ]
    },
    {
      "cell_type": "code",
      "execution_count": 14,
      "metadata": {
        "colab": {
          "base_uri": "https://localhost:8080/"
        },
        "id": "507qBeNiu3LP",
        "outputId": "2e42c3d9-23ec-4317-b177-8480f88bbbea"
      },
      "outputs": [
        {
          "output_type": "stream",
          "name": "stdout",
          "text": [
            "Requirement already satisfied: sastrawi in /usr/local/lib/python3.10/dist-packages (1.0.1)\n"
          ]
        }
      ],
      "source": [
        "import requests\n",
        "import string\n",
        "import re # untuk regex\n",
        "\n",
        "from bs4 import BeautifulSoup #untuk mengekstreak text pada HTML\n",
        "import nltk #untuk processing technique pada NLP seperti melakukan bag of words, TF-IDF, Tokenization, stop words removal, stemming, lemmatization, topic modeling, word embeddings\n",
        "from nltk.corpus import stopwords #untuk stop words bahasa indoensia bisa juga menggunakan library sastrawi berikut\n",
        "!pip install sastrawi\n",
        "from Sastrawi.Stemmer.StemmerFactory import StemmerFactory"
      ]
    },
    {
      "cell_type": "code",
      "source": [
        "# MEMBACA WEB UNTUK GET DATA\n",
        "\n",
        "web = requests.get(\"https://pn-sleman.go.id/sipp\").text\n",
        "soup = BeautifulSoup(web)\n",
        "\n",
        "for s in soup(['script', 'style']):\n",
        "  s.decompose()\n",
        "\n",
        "teks = ' '.join(soup.stripped_strings)\n",
        "print(teks)"
      ],
      "metadata": {
        "colab": {
          "base_uri": "https://localhost:8080/"
        },
        "id": "pv2xuwyWw1Jm",
        "outputId": "858dc2e0-4b4b-4acb-8ce4-06ce2f00b473"
      },
      "execution_count": 15,
      "outputs": [
        {
          "output_type": "stream",
          "name": "stdout",
          "text": [
            "SIPP Sistem Informasi Penelusuran Perkara PENGADILAN NEGERI SLEMAN 520 Beranda Perdata Umum Perdata Gugatan Perdata Gugatan Sederhana Perdata Gugatan Bantahan Perdata Permohonan Perdata Khusus Hak Kekayaan Intelektual (HKI) Kepailitan & PKPU Pengadilan Hubungan Industrial (PHI) KPPU Pidana Pidana Biasa Pidana Singkat Pidana Cepat Pidana Pra Peradilan Perkara Lalu Lintas Pidana Khusus Pidana Anak Tindak Pidana Korupsi Pidana Perikanan Hak Asasi Manusia Jadwal Sidang Laporan Statistik Perkara Delegasi Delegasi Keluar Delegasi Masuk DATA SELURUH PERKARA Pembaharuan Data : Selasa, 06 Feb. 2024 09:00:21 WIB \r\n",
            "            , Total : 341.053 Perkara No Nomor Perkara Tanggal Register Klasifikasi Perkara Para Pihak Status Perkara Lama Proses Link 1 25/Pdt.G/2024/PN Smn 06 Feb 2024 Wanprestasi Penggugat:ENANG KUNCORO Tergugat:SILVIANA CANDRA PUSPITASARI Pendaftaran Perkara 9 Hari [ detil ] 2 26/Pdt.G/2024/PN Smn 06 Feb 2024 Ganti Rugi Penggugat:Piska Irtinawati Tergugat:Fitria Pendaftaran Perkara 9 Hari [ detil ] 3 123/Pdt.P/2024/PN Smn 05 Feb 2024 Permohonan Pengangkatan Anak Pemohon:Disamarkan Sidang pertama 10 Hari [ detil ] 4 124/Pdt.P/2024/PN Smn 05 Feb 2024 Permohonan Ganti Nama Pemohon:YUNI PUJI RAHAYU Sidang pertama 10 Hari [ detil ] 5 2/Pid.C/2024/PN Smn 05 Feb 2024 Pelanggaran Penyidik Atas Kuasa PU:SUMARYANTO Terdakwa:YOGA PRASTOWO Als YOGA Bin TRI HARTANTO Minutasi 1 Hari [ detil ] 6 3/Pid.C/2024/PN Smn 05 Feb 2024 Pelanggaran Penyidik Atas Kuasa PU:Florentina Sri H, S.Sos Terdakwa:Sasminta Minutasi 1 Hari [ detil ] 7 4/Pid.C/2024/PN Smn 05 Feb 2024 Pelanggaran Penyidik Atas Kuasa PU:FLORENTINA SRI HARYANTI, S.Sos Terdakwa:Damin Minutasi 1 Hari [ detil ] 8 23/Pdt.G/2024/PN Smn 05 Feb 2024 Perbuatan Melawan Hukum Penggugat:1.DHIMAS BRAHMANTYA 2.AJENG FRIESIANA Tergugat:1.RAHAYU  MURDJANINGSIH 2.FIFI YULIANTI 3.LILIS ALWIYAH 4.RATNA ARINI DEWI 5.DOKTORANDA MARIA LILIES HAWATI 6.PEMERINTAH REPUBLIK INDONESIA DI JAKARTA Cq.BADAN PERTANAHAN NASIONAL REPUBLIK INDONESIA DI JAKARTA, Cq.KANTOR WILAYAH BADAN PERTANAHAN NASIONAL DAERAH ISTIMEWA YOGYAKARTA DI YOGYAKARTA, Cq.KANTOR PERTANAHAN KABUPATEN SLEMAN Sidang pertama 10 Hari [ detil ] 9 24/Pdt.G/2024/PN Smn 05 Feb 2024 Perbuatan Melawan Hukum Penggugat:PT. INTI HOSMED Tergugat:1.PT. BANK MNC INTERNASIONAL, Tbk. 2.MUHAMMAD SULAIMAN BERBUDIANTO 3.THOMAS SAMTOSO WIDJAYA GUNAWAN, SH. 4.EDDY KURNIAWAN Sidang pertama 10 Hari [ detil ] 10 57/Pid.Sus/2024/PN Smn 05 Feb 2024 Lain-Lain Penuntut Umum:HASTI WINASIH NOVINDARI, S.H. Terdakwa:Drs. Antonius Rumadi Sidang pertama 10 Hari [ detil ] 11 125/Pdt.P/2024/PN Smn 05 Feb 2024 Akta Kematian Pemohon:RATIH RACHMAWATI Sidang pertama 10 Hari [ detil ] 12 126/Pdt.P/2024/PN Smn 05 Feb 2024 Akta Kematian Pemohon:RATIH RACHMAWATI Sidang pertama 10 Hari [ detil ] 13 5/Pid.C/2024/PN Smn 05 Feb 2024 Pelanggaran Penyidik Atas Kuasa PU:FLORENTINA SRI HARYANTI, S.Sos Terdakwa:Budiman Minutasi 1 Hari [ detil ] 14 6/Pid.C/2024/PN Smn 05 Feb 2024 Pelanggaran Penyidik Atas Kuasa PU:FLORENTINA SRI HARYANTI, S.Sos Terdakwa:Andriyas Widiyanto Minutasi 1 Hari [ detil ] 15 127/Pdt.P/2024/PN Smn 05 Feb 2024 Permohonan Pengangkatan Anak Pemohon:Disamarkan Sidang pertama 10 Hari [ detil ] 16 7/Pid.C/2024/PN Smn 05 Feb 2024 Pelanggaran Penyidik Atas Kuasa PU:FLORENTINA SRI HARYANTI, S.Sos Terdakwa:Evid Arief Anugrah Minutasi 1 Hari [ detil ] 17 8/Pid.C/2024/PN Smn 05 Feb 2024 Pelanggaran Penyidik Atas Kuasa PU:FLORENTINA SRI HARYANTI, S.Sos Terdakwa:Bayu Iswantoro, SH Minutasi 1 Hari [ detil ] 18 128/Pdt.P/2024/PN Smn 05 Feb 2024 Akta Kematian Pemohon:AGUS HARYANTO Sidang pertama 10 Hari [ detil ] 19 9/Pid.C/2024/PN Smn 05 Feb 2024 Pelanggaran Penyidik Atas Kuasa PU:FLORENTINA SRI HARYANTI, S.Sos Terdakwa:Bayu Iswantoro, SH Minutasi 1 Hari [ detil ] 20 10/Pid.C/2024/PN Smn 05 Feb 2024 Pelanggaran Penyidik Atas Kuasa PU:FLORENTINA SRI HARYANTI, S.Sos Terdakwa:Sariyadi Minutasi 1 Hari [ detil ] Hak Cipta © Mahkamah Agung Republik Indonesia 2024 SIPP Lokal Versi 5.4.0\n"
          ]
        }
      ]
    },
    {
      "cell_type": "code",
      "source": [
        "# 1. CLEANSING\n",
        "\n",
        "# MANIPULASI STRING HURUF BESAR MENJADI HURUF KECIL SEMUA\n",
        "teks = teks.lower()\n",
        "teks = re.sub(r\"\\d+\", \"\",teks)\n",
        "\n",
        "\n",
        "teks = teks.translate(str.maketrans(\"\", \"\", string.punctuation)) #menghapus tanda baca\n",
        "\n",
        "teks = teks.strip() #menghapus kata kosong\n",
        "print(teks)"
      ],
      "metadata": {
        "colab": {
          "base_uri": "https://localhost:8080/"
        },
        "id": "gI0Y-6JWyyuJ",
        "outputId": "493f6584-34f7-40ea-a03b-a6cb7183aa2c"
      },
      "execution_count": 16,
      "outputs": [
        {
          "output_type": "stream",
          "name": "stdout",
          "text": [
            "sipp sistem informasi penelusuran perkara pengadilan negeri sleman  beranda perdata umum perdata gugatan perdata gugatan sederhana perdata gugatan bantahan perdata permohonan perdata khusus hak kekayaan intelektual hki kepailitan  pkpu pengadilan hubungan industrial phi kppu pidana pidana biasa pidana singkat pidana cepat pidana pra peradilan perkara lalu lintas pidana khusus pidana anak tindak pidana korupsi pidana perikanan hak asasi manusia jadwal sidang laporan statistik perkara delegasi delegasi keluar delegasi masuk data seluruh perkara pembaharuan data  selasa  feb   wib \r\n",
            "             total   perkara no nomor perkara tanggal register klasifikasi perkara para pihak status perkara lama proses link  pdtgpn smn  feb  wanprestasi penggugatenang kuncoro tergugatsilviana candra puspitasari pendaftaran perkara  hari  detil   pdtgpn smn  feb  ganti rugi penggugatpiska irtinawati tergugatfitria pendaftaran perkara  hari  detil   pdtppn smn  feb  permohonan pengangkatan anak pemohondisamarkan sidang pertama  hari  detil   pdtppn smn  feb  permohonan ganti nama pemohonyuni puji rahayu sidang pertama  hari  detil   pidcpn smn  feb  pelanggaran penyidik atas kuasa pusumaryanto terdakwayoga prastowo als yoga bin tri hartanto minutasi  hari  detil   pidcpn smn  feb  pelanggaran penyidik atas kuasa puflorentina sri h ssos terdakwasasminta minutasi  hari  detil   pidcpn smn  feb  pelanggaran penyidik atas kuasa puflorentina sri haryanti ssos terdakwadamin minutasi  hari  detil   pdtgpn smn  feb  perbuatan melawan hukum penggugatdhimas brahmantya ajeng friesiana tergugatrahayu  murdjaningsih fifi yulianti lilis alwiyah ratna arini dewi doktoranda maria lilies hawati pemerintah republik indonesia di jakarta cqbadan pertanahan nasional republik indonesia di jakarta cqkantor wilayah badan pertanahan nasional daerah istimewa yogyakarta di yogyakarta cqkantor pertanahan kabupaten sleman sidang pertama  hari  detil   pdtgpn smn  feb  perbuatan melawan hukum penggugatpt inti hosmed tergugatpt bank mnc internasional tbk muhammad sulaiman berbudianto thomas samtoso widjaya gunawan sh eddy kurniawan sidang pertama  hari  detil   pidsuspn smn  feb  lainlain penuntut umumhasti winasih novindari sh terdakwadrs antonius rumadi sidang pertama  hari  detil   pdtppn smn  feb  akta kematian pemohonratih rachmawati sidang pertama  hari  detil   pdtppn smn  feb  akta kematian pemohonratih rachmawati sidang pertama  hari  detil   pidcpn smn  feb  pelanggaran penyidik atas kuasa puflorentina sri haryanti ssos terdakwabudiman minutasi  hari  detil   pidcpn smn  feb  pelanggaran penyidik atas kuasa puflorentina sri haryanti ssos terdakwaandriyas widiyanto minutasi  hari  detil   pdtppn smn  feb  permohonan pengangkatan anak pemohondisamarkan sidang pertama  hari  detil   pidcpn smn  feb  pelanggaran penyidik atas kuasa puflorentina sri haryanti ssos terdakwaevid arief anugrah minutasi  hari  detil   pidcpn smn  feb  pelanggaran penyidik atas kuasa puflorentina sri haryanti ssos terdakwabayu iswantoro sh minutasi  hari  detil   pdtppn smn  feb  akta kematian pemohonagus haryanto sidang pertama  hari  detil   pidcpn smn  feb  pelanggaran penyidik atas kuasa puflorentina sri haryanti ssos terdakwabayu iswantoro sh minutasi  hari  detil   pidcpn smn  feb  pelanggaran penyidik atas kuasa puflorentina sri haryanti ssos terdakwasariyadi minutasi  hari  detil  hak cipta © mahkamah agung republik indonesia  sipp lokal versi\n"
          ]
        }
      ]
    },
    {
      "cell_type": "code",
      "source": [
        "# 2. STEMMING\n",
        "\n",
        "# STEMMING (MERUBAH KATA MEJADI KATA DASAR)\n",
        "factory = StemmerFactory()\n",
        "stemmer = factory.create_stemmer()\n",
        "output = stemmer.stem(teks)\n",
        "print(output)"
      ],
      "metadata": {
        "colab": {
          "base_uri": "https://localhost:8080/"
        },
        "id": "rlNUdGn31fKJ",
        "outputId": "91d6ef26-d7e8-463d-cbce-e120bc763867"
      },
      "execution_count": 17,
      "outputs": [
        {
          "output_type": "stream",
          "name": "stdout",
          "text": [
            "sipp sistem informasi telusur perkara adil negeri sleman beranda perdata umum perdata gugat perdata gugat sederhana perdata gugat bantah perdata mohon perdata khusus hak kaya intelektual hki pailit pkpu adil hubung industrial phi kppu pidana pidana biasa pidana singkat pidana cepat pidana pra adil perkara lalu lintas pidana khusus pidana anak tindak pidana korupsi pidana ikan hak asasi manusia jadwal sidang lapor statistik perkara delegasi delegasi keluar delegasi masuk data seluruh perkara baharu data selasa feb wib total perkara no nomor perkara tanggal register klasifikasi perkara para pihak status perkara lama proses link pdtgpn smn feb wanprestasi penggugatenang kuncoro tergugatsilviana candra puspitasari daftar perkara hari detil pdtgpn smn feb ganti rugi penggugatpiska irtinawati tergugatfitria daftar perkara hari detil pdtppn smn feb mohon angkat anak pemohondisamarkan sidang pertama hari detil pdtppn smn feb mohon ganti nama pemohonyuni puji rahayu sidang pertama hari detil pidcpn smn feb langgar sidik atas kuasa pusumaryanto terdakwayoga prastowo als yoga bin tri hartanto mutasi hari detil pidcpn smn feb langgar sidik atas kuasa puflorentina sri h ssos terdakwasasminta mutasi hari detil pidcpn smn feb langgar sidik atas kuasa puflorentina sri haryanti ssos terdakwadamin mutasi hari detil pdtgpn smn feb buat lawan hukum penggugatdhimas brahmantya ajeng friesiana tergugatrahayu murdjaningsih fifi yulianti lil alwiyah ratna arini dewi doktoranda maria lilies hawati perintah republik indonesia di jakarta cqbadan tanah nasional republik indonesia di jakarta cqkantor wilayah badan tanah nasional daerah istimewa yogyakarta di yogyakarta cqkantor tanah kabupaten sleman sidang pertama hari detil pdtgpn smn feb buat lawan hukum penggugatpt inti hosmed tergugatpt bank mnc internasional tbk muhammad sulaiman berbudianto thomas samtoso widjaya gunawan sh eddy kurniawan sidang pertama hari detil pidsuspn smn feb lainlain tuntut umumhasti winasih novindari sh terdakwadrs antonius rumadi sidang pertama hari detil pdtppn smn feb akta mati pemohonratih rachmawati sidang pertama hari detil pdtppn smn feb akta mati pemohonratih rachmawati sidang pertama hari detil pidcpn smn feb langgar sidik atas kuasa puflorentina sri haryanti ssos terdakwabudiman mutasi hari detil pidcpn smn feb langgar sidik atas kuasa puflorentina sri haryanti ssos terdakwaandriyas widiyanto mutasi hari detil pdtppn smn feb mohon angkat anak pemohondisamarkan sidang pertama hari detil pidcpn smn feb langgar sidik atas kuasa puflorentina sri haryanti ssos terdakwaevid arief anugrah mutasi hari detil pidcpn smn feb langgar sidik atas kuasa puflorentina sri haryanti ssos terdakwabayu iswantoro sh mutasi hari detil pdtppn smn feb akta mati pemohonagus haryanto sidang pertama hari detil pidcpn smn feb langgar sidik atas kuasa puflorentina sri haryanti ssos terdakwabayu iswantoro sh mutasi hari detil pidcpn smn feb langgar sidik atas kuasa puflorentina sri haryanti ssos terdakwasariyadi mutasi hari detil hak cipta mahkamah agung republik indonesia sipp lokal versi\n"
          ]
        }
      ]
    },
    {
      "cell_type": "code",
      "source": [
        "# 3. TOKENIZING\n",
        "# merubah kedalam array\n",
        "\n",
        "tokens = [t for t in output.split()]\n",
        "print(tokens)"
      ],
      "metadata": {
        "colab": {
          "base_uri": "https://localhost:8080/"
        },
        "id": "hk1UzkFw1fTL",
        "outputId": "ea5324ea-5a4d-4f2b-8b00-417ec18a888b"
      },
      "execution_count": 18,
      "outputs": [
        {
          "output_type": "stream",
          "name": "stdout",
          "text": [
            "['sipp', 'sistem', 'informasi', 'telusur', 'perkara', 'adil', 'negeri', 'sleman', 'beranda', 'perdata', 'umum', 'perdata', 'gugat', 'perdata', 'gugat', 'sederhana', 'perdata', 'gugat', 'bantah', 'perdata', 'mohon', 'perdata', 'khusus', 'hak', 'kaya', 'intelektual', 'hki', 'pailit', 'pkpu', 'adil', 'hubung', 'industrial', 'phi', 'kppu', 'pidana', 'pidana', 'biasa', 'pidana', 'singkat', 'pidana', 'cepat', 'pidana', 'pra', 'adil', 'perkara', 'lalu', 'lintas', 'pidana', 'khusus', 'pidana', 'anak', 'tindak', 'pidana', 'korupsi', 'pidana', 'ikan', 'hak', 'asasi', 'manusia', 'jadwal', 'sidang', 'lapor', 'statistik', 'perkara', 'delegasi', 'delegasi', 'keluar', 'delegasi', 'masuk', 'data', 'seluruh', 'perkara', 'baharu', 'data', 'selasa', 'feb', 'wib', 'total', 'perkara', 'no', 'nomor', 'perkara', 'tanggal', 'register', 'klasifikasi', 'perkara', 'para', 'pihak', 'status', 'perkara', 'lama', 'proses', 'link', 'pdtgpn', 'smn', 'feb', 'wanprestasi', 'penggugatenang', 'kuncoro', 'tergugatsilviana', 'candra', 'puspitasari', 'daftar', 'perkara', 'hari', 'detil', 'pdtgpn', 'smn', 'feb', 'ganti', 'rugi', 'penggugatpiska', 'irtinawati', 'tergugatfitria', 'daftar', 'perkara', 'hari', 'detil', 'pdtppn', 'smn', 'feb', 'mohon', 'angkat', 'anak', 'pemohondisamarkan', 'sidang', 'pertama', 'hari', 'detil', 'pdtppn', 'smn', 'feb', 'mohon', 'ganti', 'nama', 'pemohonyuni', 'puji', 'rahayu', 'sidang', 'pertama', 'hari', 'detil', 'pidcpn', 'smn', 'feb', 'langgar', 'sidik', 'atas', 'kuasa', 'pusumaryanto', 'terdakwayoga', 'prastowo', 'als', 'yoga', 'bin', 'tri', 'hartanto', 'mutasi', 'hari', 'detil', 'pidcpn', 'smn', 'feb', 'langgar', 'sidik', 'atas', 'kuasa', 'puflorentina', 'sri', 'h', 'ssos', 'terdakwasasminta', 'mutasi', 'hari', 'detil', 'pidcpn', 'smn', 'feb', 'langgar', 'sidik', 'atas', 'kuasa', 'puflorentina', 'sri', 'haryanti', 'ssos', 'terdakwadamin', 'mutasi', 'hari', 'detil', 'pdtgpn', 'smn', 'feb', 'buat', 'lawan', 'hukum', 'penggugatdhimas', 'brahmantya', 'ajeng', 'friesiana', 'tergugatrahayu', 'murdjaningsih', 'fifi', 'yulianti', 'lil', 'alwiyah', 'ratna', 'arini', 'dewi', 'doktoranda', 'maria', 'lilies', 'hawati', 'perintah', 'republik', 'indonesia', 'di', 'jakarta', 'cqbadan', 'tanah', 'nasional', 'republik', 'indonesia', 'di', 'jakarta', 'cqkantor', 'wilayah', 'badan', 'tanah', 'nasional', 'daerah', 'istimewa', 'yogyakarta', 'di', 'yogyakarta', 'cqkantor', 'tanah', 'kabupaten', 'sleman', 'sidang', 'pertama', 'hari', 'detil', 'pdtgpn', 'smn', 'feb', 'buat', 'lawan', 'hukum', 'penggugatpt', 'inti', 'hosmed', 'tergugatpt', 'bank', 'mnc', 'internasional', 'tbk', 'muhammad', 'sulaiman', 'berbudianto', 'thomas', 'samtoso', 'widjaya', 'gunawan', 'sh', 'eddy', 'kurniawan', 'sidang', 'pertama', 'hari', 'detil', 'pidsuspn', 'smn', 'feb', 'lainlain', 'tuntut', 'umumhasti', 'winasih', 'novindari', 'sh', 'terdakwadrs', 'antonius', 'rumadi', 'sidang', 'pertama', 'hari', 'detil', 'pdtppn', 'smn', 'feb', 'akta', 'mati', 'pemohonratih', 'rachmawati', 'sidang', 'pertama', 'hari', 'detil', 'pdtppn', 'smn', 'feb', 'akta', 'mati', 'pemohonratih', 'rachmawati', 'sidang', 'pertama', 'hari', 'detil', 'pidcpn', 'smn', 'feb', 'langgar', 'sidik', 'atas', 'kuasa', 'puflorentina', 'sri', 'haryanti', 'ssos', 'terdakwabudiman', 'mutasi', 'hari', 'detil', 'pidcpn', 'smn', 'feb', 'langgar', 'sidik', 'atas', 'kuasa', 'puflorentina', 'sri', 'haryanti', 'ssos', 'terdakwaandriyas', 'widiyanto', 'mutasi', 'hari', 'detil', 'pdtppn', 'smn', 'feb', 'mohon', 'angkat', 'anak', 'pemohondisamarkan', 'sidang', 'pertama', 'hari', 'detil', 'pidcpn', 'smn', 'feb', 'langgar', 'sidik', 'atas', 'kuasa', 'puflorentina', 'sri', 'haryanti', 'ssos', 'terdakwaevid', 'arief', 'anugrah', 'mutasi', 'hari', 'detil', 'pidcpn', 'smn', 'feb', 'langgar', 'sidik', 'atas', 'kuasa', 'puflorentina', 'sri', 'haryanti', 'ssos', 'terdakwabayu', 'iswantoro', 'sh', 'mutasi', 'hari', 'detil', 'pdtppn', 'smn', 'feb', 'akta', 'mati', 'pemohonagus', 'haryanto', 'sidang', 'pertama', 'hari', 'detil', 'pidcpn', 'smn', 'feb', 'langgar', 'sidik', 'atas', 'kuasa', 'puflorentina', 'sri', 'haryanti', 'ssos', 'terdakwabayu', 'iswantoro', 'sh', 'mutasi', 'hari', 'detil', 'pidcpn', 'smn', 'feb', 'langgar', 'sidik', 'atas', 'kuasa', 'puflorentina', 'sri', 'haryanti', 'ssos', 'terdakwasariyadi', 'mutasi', 'hari', 'detil', 'hak', 'cipta', 'mahkamah', 'agung', 'republik', 'indonesia', 'sipp', 'lokal', 'versi']\n"
          ]
        }
      ]
    },
    {
      "cell_type": "code",
      "source": [
        "# 4. STOP WORDS\n",
        "\n",
        "nltk.download()\n",
        "clean_tokens = tokens[:]\n",
        "for token in tokens:\n",
        "  if token in stopwords.words('indonesian'):\n",
        "    clean_tokens.remove(token)\n",
        "\n",
        "print(clean_tokens)\n",
        "\n",
        "# 5. VISUALISASI\n",
        "\n",
        "# FREKUENSI\n",
        "\n",
        "freq = nltk.FreqDist(clean_tokens)\n",
        "for key, val in freq.items():\n",
        "  print(str(key) +  \" \" + str(val))\n",
        "\n",
        "\n",
        "# PLOTTING\n",
        "freq.plot(30)\n"
      ],
      "metadata": {
        "colab": {
          "base_uri": "https://localhost:8080/",
          "height": 1000
        },
        "id": "7DdmaVzXzypF",
        "outputId": "f4063b27-e90d-4bd0-c5b1-cbfc5c8965bb"
      },
      "execution_count": 22,
      "outputs": [
        {
          "output_type": "stream",
          "name": "stdout",
          "text": [
            "NLTK Downloader\n",
            "---------------------------------------------------------------------------\n",
            "    d) Download   l) List    u) Update   c) Config   h) Help   q) Quit\n",
            "---------------------------------------------------------------------------\n",
            "Downloader> q\n",
            "['sipp', 'sistem', 'informasi', 'telusur', 'perkara', 'adil', 'negeri', 'sleman', 'beranda', 'perdata', 'perdata', 'gugat', 'perdata', 'gugat', 'sederhana', 'perdata', 'gugat', 'bantah', 'perdata', 'mohon', 'perdata', 'khusus', 'hak', 'kaya', 'intelektual', 'hki', 'pailit', 'pkpu', 'adil', 'hubung', 'industrial', 'phi', 'kppu', 'pidana', 'pidana', 'pidana', 'singkat', 'pidana', 'cepat', 'pidana', 'pra', 'adil', 'perkara', 'lintas', 'pidana', 'khusus', 'pidana', 'anak', 'tindak', 'pidana', 'korupsi', 'pidana', 'ikan', 'hak', 'asasi', 'manusia', 'jadwal', 'sidang', 'lapor', 'statistik', 'perkara', 'delegasi', 'delegasi', 'delegasi', 'masuk', 'data', 'perkara', 'baharu', 'data', 'selasa', 'feb', 'wib', 'total', 'perkara', 'no', 'nomor', 'perkara', 'tanggal', 'register', 'klasifikasi', 'perkara', 'status', 'perkara', 'proses', 'link', 'pdtgpn', 'smn', 'feb', 'wanprestasi', 'penggugatenang', 'kuncoro', 'tergugatsilviana', 'candra', 'puspitasari', 'daftar', 'perkara', 'detil', 'pdtgpn', 'smn', 'feb', 'ganti', 'rugi', 'penggugatpiska', 'irtinawati', 'tergugatfitria', 'daftar', 'perkara', 'detil', 'pdtppn', 'smn', 'feb', 'mohon', 'angkat', 'anak', 'pemohondisamarkan', 'sidang', 'detil', 'pdtppn', 'smn', 'feb', 'mohon', 'ganti', 'nama', 'pemohonyuni', 'puji', 'rahayu', 'sidang', 'detil', 'pidcpn', 'smn', 'feb', 'langgar', 'sidik', 'kuasa', 'pusumaryanto', 'terdakwayoga', 'prastowo', 'als', 'yoga', 'bin', 'tri', 'hartanto', 'mutasi', 'detil', 'pidcpn', 'smn', 'feb', 'langgar', 'sidik', 'kuasa', 'puflorentina', 'sri', 'h', 'ssos', 'terdakwasasminta', 'mutasi', 'detil', 'pidcpn', 'smn', 'feb', 'langgar', 'sidik', 'kuasa', 'puflorentina', 'sri', 'haryanti', 'ssos', 'terdakwadamin', 'mutasi', 'detil', 'pdtgpn', 'smn', 'feb', 'lawan', 'hukum', 'penggugatdhimas', 'brahmantya', 'ajeng', 'friesiana', 'tergugatrahayu', 'murdjaningsih', 'fifi', 'yulianti', 'lil', 'alwiyah', 'ratna', 'arini', 'dewi', 'doktoranda', 'maria', 'lilies', 'hawati', 'perintah', 'republik', 'indonesia', 'jakarta', 'cqbadan', 'tanah', 'nasional', 'republik', 'indonesia', 'jakarta', 'cqkantor', 'wilayah', 'badan', 'tanah', 'nasional', 'daerah', 'istimewa', 'yogyakarta', 'yogyakarta', 'cqkantor', 'tanah', 'kabupaten', 'sleman', 'sidang', 'detil', 'pdtgpn', 'smn', 'feb', 'lawan', 'hukum', 'penggugatpt', 'inti', 'hosmed', 'tergugatpt', 'bank', 'mnc', 'internasional', 'tbk', 'muhammad', 'sulaiman', 'berbudianto', 'thomas', 'samtoso', 'widjaya', 'gunawan', 'sh', 'eddy', 'kurniawan', 'sidang', 'detil', 'pidsuspn', 'smn', 'feb', 'lainlain', 'tuntut', 'umumhasti', 'winasih', 'novindari', 'sh', 'terdakwadrs', 'antonius', 'rumadi', 'sidang', 'detil', 'pdtppn', 'smn', 'feb', 'akta', 'mati', 'pemohonratih', 'rachmawati', 'sidang', 'detil', 'pdtppn', 'smn', 'feb', 'akta', 'mati', 'pemohonratih', 'rachmawati', 'sidang', 'detil', 'pidcpn', 'smn', 'feb', 'langgar', 'sidik', 'kuasa', 'puflorentina', 'sri', 'haryanti', 'ssos', 'terdakwabudiman', 'mutasi', 'detil', 'pidcpn', 'smn', 'feb', 'langgar', 'sidik', 'kuasa', 'puflorentina', 'sri', 'haryanti', 'ssos', 'terdakwaandriyas', 'widiyanto', 'mutasi', 'detil', 'pdtppn', 'smn', 'feb', 'mohon', 'angkat', 'anak', 'pemohondisamarkan', 'sidang', 'detil', 'pidcpn', 'smn', 'feb', 'langgar', 'sidik', 'kuasa', 'puflorentina', 'sri', 'haryanti', 'ssos', 'terdakwaevid', 'arief', 'anugrah', 'mutasi', 'detil', 'pidcpn', 'smn', 'feb', 'langgar', 'sidik', 'kuasa', 'puflorentina', 'sri', 'haryanti', 'ssos', 'terdakwabayu', 'iswantoro', 'sh', 'mutasi', 'detil', 'pdtppn', 'smn', 'feb', 'akta', 'mati', 'pemohonagus', 'haryanto', 'sidang', 'detil', 'pidcpn', 'smn', 'feb', 'langgar', 'sidik', 'kuasa', 'puflorentina', 'sri', 'haryanti', 'ssos', 'terdakwabayu', 'iswantoro', 'sh', 'mutasi', 'detil', 'pidcpn', 'smn', 'feb', 'langgar', 'sidik', 'kuasa', 'puflorentina', 'sri', 'haryanti', 'ssos', 'terdakwasariyadi', 'mutasi', 'detil', 'hak', 'cipta', 'mahkamah', 'agung', 'republik', 'indonesia', 'sipp', 'lokal', 'versi']\n",
            "sipp 2\n",
            "sistem 1\n",
            "informasi 1\n",
            "telusur 1\n",
            "perkara 10\n",
            "adil 3\n",
            "negeri 1\n",
            "sleman 2\n",
            "beranda 1\n",
            "perdata 6\n",
            "gugat 3\n",
            "sederhana 1\n",
            "bantah 1\n",
            "mohon 4\n",
            "khusus 2\n",
            "hak 3\n",
            "kaya 1\n",
            "intelektual 1\n",
            "hki 1\n",
            "pailit 1\n",
            "pkpu 1\n",
            "hubung 1\n",
            "industrial 1\n",
            "phi 1\n",
            "kppu 1\n",
            "pidana 9\n",
            "singkat 1\n",
            "cepat 1\n",
            "pra 1\n",
            "lintas 1\n",
            "anak 3\n",
            "tindak 1\n",
            "korupsi 1\n",
            "ikan 1\n",
            "asasi 1\n",
            "manusia 1\n",
            "jadwal 1\n",
            "sidang 10\n",
            "lapor 1\n",
            "statistik 1\n",
            "delegasi 3\n",
            "masuk 1\n",
            "data 2\n",
            "baharu 1\n",
            "selasa 1\n",
            "feb 21\n",
            "wib 1\n",
            "total 1\n",
            "no 1\n",
            "nomor 1\n",
            "tanggal 1\n",
            "register 1\n",
            "klasifikasi 1\n",
            "status 1\n",
            "proses 1\n",
            "link 1\n",
            "pdtgpn 4\n",
            "smn 20\n",
            "wanprestasi 1\n",
            "penggugatenang 1\n",
            "kuncoro 1\n",
            "tergugatsilviana 1\n",
            "candra 1\n",
            "puspitasari 1\n",
            "daftar 2\n",
            "detil 20\n",
            "ganti 2\n",
            "rugi 1\n",
            "penggugatpiska 1\n",
            "irtinawati 1\n",
            "tergugatfitria 1\n",
            "pdtppn 6\n",
            "angkat 2\n",
            "pemohondisamarkan 2\n",
            "nama 1\n",
            "pemohonyuni 1\n",
            "puji 1\n",
            "rahayu 1\n",
            "pidcpn 9\n",
            "langgar 9\n",
            "sidik 9\n",
            "kuasa 9\n",
            "pusumaryanto 1\n",
            "terdakwayoga 1\n",
            "prastowo 1\n",
            "als 1\n",
            "yoga 1\n",
            "bin 1\n",
            "tri 1\n",
            "hartanto 1\n",
            "mutasi 9\n",
            "puflorentina 8\n",
            "sri 8\n",
            "h 1\n",
            "ssos 8\n",
            "terdakwasasminta 1\n",
            "haryanti 7\n",
            "terdakwadamin 1\n",
            "lawan 2\n",
            "hukum 2\n",
            "penggugatdhimas 1\n",
            "brahmantya 1\n",
            "ajeng 1\n",
            "friesiana 1\n",
            "tergugatrahayu 1\n",
            "murdjaningsih 1\n",
            "fifi 1\n",
            "yulianti 1\n",
            "lil 1\n",
            "alwiyah 1\n",
            "ratna 1\n",
            "arini 1\n",
            "dewi 1\n",
            "doktoranda 1\n",
            "maria 1\n",
            "lilies 1\n",
            "hawati 1\n",
            "perintah 1\n",
            "republik 3\n",
            "indonesia 3\n",
            "jakarta 2\n",
            "cqbadan 1\n",
            "tanah 3\n",
            "nasional 2\n",
            "cqkantor 2\n",
            "wilayah 1\n",
            "badan 1\n",
            "daerah 1\n",
            "istimewa 1\n",
            "yogyakarta 2\n",
            "kabupaten 1\n",
            "penggugatpt 1\n",
            "inti 1\n",
            "hosmed 1\n",
            "tergugatpt 1\n",
            "bank 1\n",
            "mnc 1\n",
            "internasional 1\n",
            "tbk 1\n",
            "muhammad 1\n",
            "sulaiman 1\n",
            "berbudianto 1\n",
            "thomas 1\n",
            "samtoso 1\n",
            "widjaya 1\n",
            "gunawan 1\n",
            "sh 4\n",
            "eddy 1\n",
            "kurniawan 1\n",
            "pidsuspn 1\n",
            "lainlain 1\n",
            "tuntut 1\n",
            "umumhasti 1\n",
            "winasih 1\n",
            "novindari 1\n",
            "terdakwadrs 1\n",
            "antonius 1\n",
            "rumadi 1\n",
            "akta 3\n",
            "mati 3\n",
            "pemohonratih 2\n",
            "rachmawati 2\n",
            "terdakwabudiman 1\n",
            "terdakwaandriyas 1\n",
            "widiyanto 1\n",
            "terdakwaevid 1\n",
            "arief 1\n",
            "anugrah 1\n",
            "terdakwabayu 2\n",
            "iswantoro 2\n",
            "pemohonagus 1\n",
            "haryanto 1\n",
            "terdakwasariyadi 1\n",
            "cipta 1\n",
            "mahkamah 1\n",
            "agung 1\n",
            "lokal 1\n",
            "versi 1\n"
          ]
        },
        {
          "output_type": "display_data",
          "data": {
            "text/plain": [
              "<Figure size 640x480 with 1 Axes>"
            ],
            "image/png": "[encoded data removed]"
          },
          "metadata": {}
        },
        {
          "output_type": "execute_result",
          "data": {
            "text/plain": [
              "<Axes: xlabel='Samples', ylabel='Counts'>"
            ]
          },
          "metadata": {},
          "execution_count": 22
        }
      ]
    },
    {
      "cell_type": "code",
      "source": [],
      "metadata": {
        "id": "2NPBo2971-dD"
      },
      "execution_count": null,
      "outputs": []
    }
  ]
}