{
  "nbformat": 4,
  "nbformat_minor": 0,
  "metadata": {
    "colab": {
      "provenance": [],
      "toc_visible": true,
      "authorship_tag": "ABX9TyPWzkgf2ypwKWy/D39/+beR",
      "include_colab_link": true
    },
    "kernelspec": {
      "name": "python3",
      "display_name": "Python 3"
    },
    "language_info": {
      "name": "python"
    }
  },
  "cells": [
    {
      "cell_type": "markdown",
      "metadata": {
        "id": "view-in-github",
        "colab_type": "text"
      },
      "source": [
        "<a href=\"https://colab.research.google.com/github/nascript/natural-language-processing-NLP-/blob/main/01_NLP_Regex.ipynb\" target=\"_parent\"><img src=\"https://colab.research.google.com/assets/colab-badge.svg\" alt=\"Open In Colab\"/></a>"
      ]
    },
    {
      "cell_type": "markdown",
      "source": [
        "BELAJAR REGEX\n",
        "\n"
      ],
      "metadata": {
        "id": "c8s1YcjQncoE"
      }
    },
    {
      "cell_type": "code",
      "execution_count": 22,
      "metadata": {
        "id": "6vWFAIdgm1mt"
      },
      "outputs": [],
      "source": [
        "import re #regex"
      ]
    },
    {
      "cell_type": "code",
      "source": [
        "chat1 = 'codebasics: you ask lot of questions 🤨 1235678912, abc@xyz.com, 9998881234'\n",
        "chat2 = 'codebasics: here it is: (123)-567-8912, abc@xyz.com, 1_2_A_abc@xyz.io'\n",
        "chat3 = 'codebasics: yes, phone: 1235678912 email: abc@xyz.com'"
      ],
      "metadata": {
        "id": "RM485a3Nop55"
      },
      "execution_count": 28,
      "outputs": []
    },
    {
      "cell_type": "code",
      "source": [
        "# phone number regex with 10 digits\n",
        "\n",
        "pattern = '\\d{10}' # temukan 10 angka > source from web regex 101\n",
        "\n",
        "patternWithBracket = '\\(\\d{3}\\)-\\d{3}-\\d{4}'\n",
        "\n",
        "matches1 = re.findall(pattern, chat1)\n",
        "print(matches1)\n",
        "\n",
        "matches2 = re.findall(patternWithBracket, chat2)\n",
        "print(matches2)\n",
        "\n",
        "patternBoth = '\\d{10}|\\(\\d{3}\\)-\\d{3}-\\d{4}' # using or\n",
        "matchesBoth = re.findall(patternBoth, chat1)\n",
        "print(matchesBoth)\n",
        "\n",
        "\n",
        "# email regex\n",
        "paternEmail = '[a-z0-9A-Z_]*@[a-z0-9A-Z_]*\\.[a-zA-Z]*'\n",
        "mathcesEmail = re.findall(paternEmail, chat2)\n",
        "print(mathcesEmail)\n"
      ],
      "metadata": {
        "colab": {
          "base_uri": "https://localhost:8080/"
        },
        "id": "0uBPNH-6oxyB",
        "outputId": "c486ae7a-fe46-41a4-c2b7-14d14365df2d"
      },
      "execution_count": 29,
      "outputs": [
        {
          "output_type": "stream",
          "name": "stdout",
          "text": [
            "['1235678912', '9998881234']\n",
            "['(123)-567-8912']\n",
            "['1235678912', '9998881234']\n",
            "['abc@xyz.com', '1_2_A_abc@xyz.io']\n"
          ]
        }
      ]
    },
    {
      "cell_type": "code",
      "source": [],
      "metadata": {
        "id": "q1qvYnwuo7w-"
      },
      "execution_count": null,
      "outputs": []
    }
  ]
}